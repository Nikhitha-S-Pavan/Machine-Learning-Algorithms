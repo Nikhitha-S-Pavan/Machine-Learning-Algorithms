{
  "nbformat": 4,
  "nbformat_minor": 0,
  "metadata": {
    "colab": {
      "name": "weather_prediction_Linear_Regression.ipynb",
      "private_outputs": true,
      "provenance": [],
      "authorship_tag": "ABX9TyPNnYPLBn2b/ZOu0ymp3OIQ",
      "include_colab_link": true
    },
    "kernelspec": {
      "name": "python3",
      "display_name": "Python 3"
    },
    "language_info": {
      "name": "python"
    }
  },
  "cells": [
    {
      "cell_type": "markdown",
      "metadata": {
        "id": "view-in-github",
        "colab_type": "text"
      },
      "source": [
        "<a href=\"https://colab.research.google.com/github/Nikhitha-S-Pavan/Machine-Learning-Algorithms/blob/main/weather_prediction_Linear_Regression.ipynb\" target=\"_parent\"><img src=\"https://colab.research.google.com/assets/colab-badge.svg\" alt=\"Open In Colab\"/></a>"
      ]
    },
    {
      "cell_type": "code",
      "metadata": {
        "id": "Qmzb1dePqAYT"
      },
      "source": [
        "import numpy as np  # linear algebra\n",
        "import pandas as pd # data processing, CSV file I/O (e.g. pd.read_csv)\n",
        "import matplotlib.pyplot as plt  #generating graphs"
      ],
      "execution_count": null,
      "outputs": []
    },
    {
      "cell_type": "code",
      "metadata": {
        "id": "Zm7va-kQqEGl"
      },
      "source": [
        "#Importing DataSet \n",
        "dataset = pd.read_csv(\"/content/weather.csv\")\n",
        "temp=dataset['temperaturemin']\n",
        "precipitation=dataset['precipitation']"
      ],
      "execution_count": null,
      "outputs": []
    },
    {
      "cell_type": "code",
      "metadata": {
        "id": "jXJOjZWSqEJV"
      },
      "source": [
        "dataset"
      ],
      "execution_count": null,
      "outputs": []
    },
    {
      "cell_type": "code",
      "metadata": {
        "id": "sdoeAB_CqEMW"
      },
      "source": [
        "x = np.array(temp).reshape(-1, 1) # function name says it : reshape the array\n",
        "y = np.array(precipitation)"
      ],
      "execution_count": null,
      "outputs": []
    },
    {
      "cell_type": "code",
      "metadata": {
        "id": "tUYWiuVcqEPc"
      },
      "source": [
        ""
      ],
      "execution_count": null,
      "outputs": []
    },
    {
      "cell_type": "code",
      "metadata": {
        "id": "LWFJ2xGyqETe"
      },
      "source": [
        "#Splitting the data into Train and Test\n",
        "#from sklearn.cross_validation import train_test_split in earlier version\n",
        "from sklearn.model_selection import train_test_split \n",
        "xtrain, xtest, ytrain, ytest = train_test_split( x, y, test_size=1/3, random_state=0 )"
      ],
      "execution_count": null,
      "outputs": []
    },
    {
      "cell_type": "code",
      "metadata": {
        "id": "dSUCplJZqEXe"
      },
      "source": [
        "xtrain, ytrain"
      ],
      "execution_count": null,
      "outputs": []
    },
    {
      "cell_type": "code",
      "metadata": {
        "id": "1Xsl46yHqEbR"
      },
      "source": [
        "#Fitting simple linear regression to the Training Set\n",
        "from sklearn.linear_model import LinearRegression \n",
        "regressor = LinearRegression()\n",
        "regressor.fit( xtrain, ytrain )\n"
      ],
      "execution_count": null,
      "outputs": []
    },
    {
      "cell_type": "code",
      "metadata": {
        "id": "L49Ngfa5qEeU"
      },
      "source": [
        "actualValue = ytrain\n",
        "predictedValue = regressor.predict(xtrain) \n",
        "xtrain[0], actualValue[0] , predictedValue[0]"
      ],
      "execution_count": null,
      "outputs": []
    },
    {
      "cell_type": "code",
      "metadata": {
        "id": "BaVv0fBUqEh3"
      },
      "source": [
        "np.sqrt ( sum( abs( actualValue**2 - predictedValue**2 ) ) ) / len( xtrain ) # RMSE\n",
        "# Root Mean Square Error"
      ],
      "execution_count": null,
      "outputs": []
    },
    {
      "cell_type": "code",
      "metadata": {
        "id": "V51qwaontVjG"
      },
      "source": [
        "#Visualizing the training Test Results \n",
        "# Actual values\n",
        "plt.scatter(xtrain, ytrain, color='green') # x = xtrain , y = ytrain\n",
        "\n",
        "#Predicted values\n",
        "prediction = regressor.predict(xtrain)\n",
        "plt.plot(xtrain, prediction , color = 'black') # y = prediction\n",
        "\n",
        "plt.title (\"Prediction for Training Dataset\")\n",
        "plt.xlabel(\"Temperature in degree\"), plt.ylabel(\"Precipitation\")\n",
        "plt.show()"
      ],
      "execution_count": null,
      "outputs": []
    },
    {
      "cell_type": "code",
      "metadata": {
        "id": "ODCJmvSCtVqF"
      },
      "source": [
        ""
      ],
      "execution_count": null,
      "outputs": []
    },
    {
      "cell_type": "code",
      "metadata": {
        "id": "xPt3qOtatV0b"
      },
      "source": [
        ""
      ],
      "execution_count": null,
      "outputs": []
    }
  ]
}