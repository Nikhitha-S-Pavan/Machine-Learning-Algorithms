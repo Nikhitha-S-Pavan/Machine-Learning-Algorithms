{
  "nbformat": 4,
  "nbformat_minor": 0,
  "metadata": {
    "colab": {
      "name": "weather_prediction_Linear_Regression.ipynb",
      "private_outputs": true,
      "provenance": [],
      "authorship_tag": "ABX9TyM3bnAgRM6OyhnGBl3hvTUk",
      "include_colab_link": true
    },
    "kernelspec": {
      "name": "python3",
      "display_name": "Python 3"
    },
    "language_info": {
      "name": "python"
    }
  },
  "cells": [
    {
      "cell_type": "markdown",
      "metadata": {
        "id": "view-in-github",
        "colab_type": "text"
      },
      "source": [
        "<a href=\"https://colab.research.google.com/github/Nikhitha-S-Pavan/Machine-Learning-Algorithms/blob/main/weather_prediction_Linear_Regression.ipynb\" target=\"_parent\"><img src=\"https://colab.research.google.com/assets/colab-badge.svg\" alt=\"Open In Colab\"/></a>"
      ]
    },
    {
      "cell_type": "code",
      "metadata": {
        "id": "Qmzb1dePqAYT"
      },
      "source": [
        "import numpy as np  # linear algebra\n",
        "import pandas as pd # data processing, CSV file I/O (e.g. pd.read_csv)\n",
        "import matplotlib.pyplot as plt  #generating graphs"
      ],
      "execution_count": null,
      "outputs": []
    },
    {
      "cell_type": "code",
      "metadata": {
        "id": "Zm7va-kQqEGl"
      },
      "source": [
        "#Importing DataSet \n",
        "dataset = pd.read_csv(\"/content/weather.csv\")\n",
        "temp=dataset['temperaturemin']\n",
        "precipitation=dataset['precipitation']"
      ],
      "execution_count": null,
      "outputs": []
    },
    {
      "cell_type": "code",
      "metadata": {
        "id": "jXJOjZWSqEJV"
      },
      "source": [
        "dataset.columns"
      ],
      "execution_count": null,
      "outputs": []
    },
    {
      "cell_type": "code",
      "metadata": {
        "id": "F2HxZOpbxk0y"
      },
      "source": [
        "import pandas as pd\n",
        "import numpy as np\n",
        "from sklearn import svm\n",
        "from sklearn.linear_model import LinearRegression\n",
        "from sklearn.model_selection import train_test_split, cross_val_score\n",
        "from sklearn.metrics import confusion_matrix, accuracy_score, classification_report\n",
        "from sklearn.model_selection import cross_val_score, train_test_split\n",
        "from sklearn.metrics import accuracy_score, mean_squared_error, r2_score\n",
        "\n",
        "dataset.isnull().values.any()\n",
        "dataset.isnull().sum().sum()\n",
        "dataset=dataset.dropna()\n",
        "dataset.head(3)\n",
        "y_col ='precipitation'\n",
        "  \n",
        "x_col = [\"temperaturemin\"]\n",
        "\n",
        "\"\"\"dataset[\"thunder\"]=dataset.thunder.eq('yes').mul(1)\n",
        "dataset[\"highwind\"]=dataset.highwind.eq('yes').mul(1)\n",
        "dataset[\"hail\"]=dataset.hail.eq('yes').mul(1)\n",
        "dataset[\"rain\"]=dataset.rain.eq('yes').mul(1)\"\"\"\n",
        "\n",
        "x_train, x_test, y_train, y_test = train_test_split(dataset[x_col], dataset[y_col],\n",
        "                                                    train_size=0.8, test_size=0.2, shuffle=False)\n",
        "# Print samples after running train_test_split\n",
        "print(\"X_train: {}, Y_train: {}\".format(len(x_train), len(x_test)))\n",
        "print(\"X_train: {}, Y_train: {}\".format(len(y_train), len(y_test)))\n",
        "print(\"\\n\")\n",
        "model = LinearRegression()\n",
        "model.fit(x_train, y_train)\n"
      ],
      "execution_count": null,
      "outputs": []
    },
    {
      "cell_type": "code",
      "metadata": {
        "id": "aWgFr-50yQuM"
      },
      "source": [
        "prediction = model.predict(x_train)\n",
        "prediction\n",
        "actual_val = y_train\n",
        "print(actual_val[0], prediction[0])\n",
        "\n",
        "\n",
        "# Actual values\n",
        "plt.scatter(x_train, y_train, color='green') # x = xtrain , y = ytrain\n",
        "plt.plot(x_train, prediction , color = 'black') # y = prediction\n",
        "\n",
        "plt.title (\"Prediction for Training Dataset\")\n",
        "plt.xlabel(\"Temperature in degree\"), plt.ylabel(\"Precipitation\")\n",
        "plt.show()"
      ],
      "execution_count": null,
      "outputs": []
    },
    {
      "cell_type": "code",
      "metadata": {
        "id": "sdoeAB_CqEMW"
      },
      "source": [
        "x = np.array(temp).reshape(-1, 1) # function name says it : reshape the array\n",
        "y = np.array(precipitation)\n",
        "#Splitting the data into Train and Test\n",
        "#from sklearn.cross_validation import train_test_split in earlier version\n",
        "from sklearn.model_selection import train_test_split \n",
        "xtrain, xtest, ytrain, ytest = train_test_split( x, y, test_size=1/3, random_state=0 )\n",
        "\n",
        "#Fitting simple linear regression to the Training Set\n",
        "from sklearn.linear_model import LinearRegression \n",
        "regressor = LinearRegression()\n",
        "regressor.fit( xtrain, ytrain )\n",
        "\n",
        "actualValue = ytrain\n",
        "predictedValue = regressor.predict(xtrain) \n",
        "xtrain[0], actualValue[0] , predictedValue[0]\n",
        "\n",
        "\n",
        "np.sqrt ( sum( abs( actualValue**2 - predictedValue**2 ) ) ) / len( xtrain ) # RMSE\n",
        "# Root Mean Square Error\n",
        "\n",
        "#Visualizing the training Test Results \n",
        "# Actual values\n",
        "plt.scatter(xtrain, ytrain, color='green') # x = xtrain , y = ytrain\n",
        "\n",
        "#Predicted values\n",
        "prediction = regressor.predict(xtrain)\n",
        "plt.plot(xtrain, prediction , color = 'black') # y = prediction\n",
        "\n",
        "plt.title (\"Prediction for Training Dataset\")\n",
        "plt.xlabel(\"Temperature in degree\"), plt.ylabel(\"Precipitation\")\n",
        "plt.show()"
      ],
      "execution_count": null,
      "outputs": []
    }
  ]
}